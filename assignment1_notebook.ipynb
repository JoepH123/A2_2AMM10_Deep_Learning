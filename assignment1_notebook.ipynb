{
  "cells": [
    {
      "cell_type": "markdown",
      "metadata": {
        "id": "7wv9q_pcGshE"
      },
      "source": [
        "# Assignment 2 2AMM10 2023-2024\n",
        "\n",
        "## Group: [Fill in your group name]\n",
        "### Member 1: [Fill in your name]\n",
        "### Member 2: [Fill in your name]\n",
        "### Member 3: [Fill in your name]"
      ]
    },
    {
      "cell_type": "markdown",
      "metadata": {
        "id": "cQzvuDWw_Eyw"
      },
      "source": [
        "We need to install some specific libraries. The cell below installs torch_geometric for torch 2.6.0+cu124. In case the current version of torch is different, check [here](https://pytorch-geometric.readthedocs.io/en/latest/install/installation.html) to see which versions (of both libraries) you should install. You might also need to install an old version of torch from [here](https://pytorch.org/get-started/previous-versions/)\n",
        "\n",
        "**Note:** Do not install pyg_lib from the optional dependencies"
      ]
    },
    {
      "cell_type": "markdown",
      "metadata": {},
      "source": [
        "https://deepchem.readthedocs.io/en/2.4.0/get_started/installation.html"
      ]
    },
    {
      "cell_type": "markdown",
      "metadata": {},
      "source": [
        "Philippe Schwaller, Teodoro Laino, Théophile Gaudin, Peter Bolgar, Christopher A. Hunter, Costas Bekas, and Alpha A. Lee ACS Central Science 2019 5 (9): Molecular Transformer: A Model for Uncertainty-Calibrated Chemical Reaction Prediction 1572-1583 DOI: 10.1021/acscentsci.9b00576"
      ]
    },
    {
      "cell_type": "code",
      "execution_count": null,
      "metadata": {
        "id": "ibC2lMHfD67H"
      },
      "outputs": [],
      "source": [
        "# !pip show torch"
      ]
    },
    {
      "cell_type": "code",
      "execution_count": null,
      "metadata": {
        "id": "8qrPQFNe_AJu"
      },
      "outputs": [],
      "source": [
        "# !pip install rdkit\n",
        "# !pip install torch_geometric\n",
        "# !pip install torch_scatter torch_sparse torch_cluster torch_spline_conv -f https://data.pyg.org/whl/torch-2.6.0+cu124.html"
      ]
    },
    {
      "cell_type": "code",
      "execution_count": 6,
      "metadata": {
        "id": "WVL2eo0g_Iuv"
      },
      "outputs": [],
      "source": [
        "import pickle\n",
        "import numpy as np\n",
        "from rdkit import Chem\n",
        "from rdkit.Chem import Draw, AllChem\n",
        "from rdkit import RDLogger\n",
        "RDLogger.DisableLog('rdApp.*')\n",
        "import matplotlib.pyplot as plt"
      ]
    },
    {
      "cell_type": "code",
      "execution_count": 9,
      "metadata": {
        "id": "H8rvaK56_iQ7"
      },
      "outputs": [],
      "source": [
        "with open('data/pos_data.pkl', 'rb') as f:\n",
        "    pos_data = pickle.load(f)\n",
        "\n",
        "with open('data/type_data.pkl', 'rb') as f:\n",
        "    type_data = pickle.load(f)\n",
        "\n",
        "with open('data/smiles.pkl', 'rb') as f:\n",
        "    smiles_data = pickle.load(f)\n",
        "\n",
        "data_split = np.load('data/data_split.npz')\n",
        "\n",
        "train_idxes = data_split['train_idx']\n",
        "test_idxes = data_split['test_idx']\n",
        "\n",
        "formation_energy = np.load('data/formation_energy.npz')\n",
        "\n",
        "fe = formation_energy['y'] # normalized formation energy\n",
        "mu = formation_energy['mu']\n",
        "std = formation_energy['sigma']"
      ]
    },
    {
      "cell_type": "code",
      "execution_count": 19,
      "metadata": {
        "id": "DIsGRQcxA_4Q"
      },
      "outputs": [
        {
          "name": "stdout",
          "output_type": "stream",
          "text": [
            "Length of data\n",
            "pos_data: 129012, type_data: 129012, smiles: 129012\n",
            "Idxes\n",
            "train: 119012, test: 10000, sum: 129012\n"
          ]
        }
      ],
      "source": [
        "# shapes of lists\n",
        "print(\"Length of data\")\n",
        "print(f\"pos_data: {len(pos_data)}, type_data: {len(type_data)}, smiles: {len(smiles_data)}\")\n",
        "print(\"Idxes\")\n",
        "print(f\"train: {len(train_idxes)}, test: {len(test_idxes)}, sum: {len(train_idxes) + len(test_idxes)}\")"
      ]
    },
    {
      "cell_type": "code",
      "execution_count": 20,
      "metadata": {
        "id": "bVDJF7I3BFa2"
      },
      "outputs": [],
      "source": [
        "def at_number_to_atom_name(at_number):\n",
        "    if at_number == 6:\n",
        "        return 'C'\n",
        "    elif at_number == 1:\n",
        "        return 'H'\n",
        "    elif at_number == 7:\n",
        "        return 'N'\n",
        "    elif at_number == 8:\n",
        "        return 'O'\n",
        "    elif at_number == 9:\n",
        "        return 'F'\n",
        "    elif at_number == 16:\n",
        "        return 'S'\n",
        "    else:\n",
        "        return 'Unknown'\n",
        "\n",
        "def inspect_structure(idx):\n",
        "    smile = smiles_data[idx]\n",
        "    pos = pos_data[idx]\n",
        "    typ = type_data[idx]\n",
        "\n",
        "    header = f\"{'Atom':^5}│{'Number':^6}│{'x':^10}│{'y':^10}│{'z':^10}\"\n",
        "    line   = \"─────┼──────┼──────────┼──────────┼──────────\"\n",
        "    print(header)\n",
        "    print(line)\n",
        "\n",
        "    for atom_num, (x, y, z) in zip(typ, pos):\n",
        "        atom_sym = at_number_to_atom_name(atom_num)\n",
        "        print(f\"{atom_sym:^5}│{atom_num:^6}│{x:>10.3f}│{y:>10.3f}│{z:>10.3f}\")\n",
        "    print(\"\")\n",
        "    print(\"\")\n",
        "    print(f'SMILE: {smile}')\n",
        "    print(\"\")\n",
        "    print(\"\")\n",
        "    print(f'Formation Energy: {fe[idx]*std + mu:.3f}')\n",
        "    print(f'Formation Energy (normalized): {fe[idx]:.5f}')\n",
        "    mol = Chem.MolFromSmiles(smile)\n",
        "    if mol:\n",
        "        # RDKit prefers 2‑D coordinates for nice depictions\n",
        "        Chem.AllChem.Compute2DCoords(mol)\n",
        "        img = Draw.MolToImage(mol, size=(300, 300))\n",
        "\n",
        "        # Display with matplotlib (works both in notebooks and scripts)\n",
        "        plt.figure(figsize=(3, 3))\n",
        "        plt.axis('off')\n",
        "        plt.imshow(img)\n",
        "        plt.show()"
      ]
    },
    {
      "cell_type": "code",
      "execution_count": 21,
      "metadata": {
        "id": "K1rs7hhCC4oq"
      },
      "outputs": [
        {
          "name": "stdout",
          "output_type": "stream",
          "text": [
            "Atom │Number│    x     │    y     │    z     \n",
            "─────┼──────┼──────────┼──────────┼──────────\n",
            "  C  │  6   │    -0.013│     1.086│     0.008\n",
            "  H  │  1   │     0.002│    -0.006│     0.002\n",
            "  H  │  1   │     1.012│     1.464│     0.000\n",
            "  H  │  1   │    -0.541│     1.447│    -0.877\n",
            "  H  │  1   │    -0.524│     1.438│     0.906\n",
            "\n",
            "\n",
            "SMILE: C\n",
            "\n",
            "\n",
            "Formation Energy: -17.172\n",
            "Formation Energy (normalized): 5.72327\n"
          ]
        },
        {
          "data": {
            "image/png": "[encoded data removed]",
            "text/plain": [
              "<Figure size 300x300 with 1 Axes>"
            ]
          },
          "metadata": {},
          "output_type": "display_data"
        }
      ],
      "source": [
        "# methane\n",
        "# Note how methane has a relatively high formation energy (compared to QM9)\n",
        "# This correlates with lower thermodynamic stability and higher reactivity\n",
        "# For example, methane readily burns in oxygen (CH₄ + 2O₂ → CO₂ + 2H₂O)\n",
        "inspect_structure(0)"
      ]
    },
    {
      "cell_type": "code",
      "execution_count": 22,
      "metadata": {
        "id": "vo8hYLuQCeBR"
      },
      "outputs": [
        {
          "name": "stdout",
          "output_type": "stream",
          "text": [
            "Atom │Number│    x     │    y     │    z     \n",
            "─────┼──────┼──────────┼──────────┼──────────\n",
            "  N  │  7   │     0.012│     1.183│    -0.103\n",
            "  C  │  6   │    -0.029│    -0.060│     0.032\n",
            "  O  │  8   │     1.011│    -0.987│     0.195\n",
            "  C  │  6   │     0.052│    -2.066│     0.020\n",
            "  C  │  6   │    -0.945│    -2.090│     1.114\n",
            "  C  │  6   │    -1.117│    -1.089│    -0.029\n",
            "  C  │  6   │    -1.932│    -1.484│    -1.238\n",
            "  O  │  8   │    -1.441│    -2.793│    -1.598\n",
            "  C  │  6   │    -0.059│    -2.896│    -1.232\n",
            "  H  │  1   │     0.972│     1.531│    -0.068\n",
            "  H  │  1   │    -1.655│    -2.911│     1.102\n",
            "  H  │  1   │    -0.658│    -1.728│     2.094\n",
            "  H  │  1   │    -3.006│    -1.596│    -1.067\n",
            "  H  │  1   │    -1.775│    -0.757│    -2.046\n",
            "  H  │  1   │     0.612│    -2.475│    -1.995\n",
            "  H  │  1   │     0.155│    -3.962│    -1.115\n",
            "\n",
            "\n",
            "SMILE: [NH-][C@@H]1O[C@]23COC[C@]12C3\n",
            "\n",
            "\n",
            "Formation Energy: -69.198\n",
            "Formation Energy (normalized): 0.67754\n"
          ]
        },
        {
          "data": {
            "image/png": "[encoded data removed]",
            "text/plain": [
              "<Figure size 300x300 with 1 Axes>"
            ]
          },
          "metadata": {},
          "output_type": "display_data"
        }
      ],
      "source": [
        "# random structure\n",
        "inspect_structure(np.random.choice(range(len(smiles_data))))"
      ]
    },
    {
      "cell_type": "markdown",
      "metadata": {},
      "source": [
        "## Exploring SMILES data:"
      ]
    },
    {
      "cell_type": "code",
      "execution_count": 24,
      "metadata": {},
      "outputs": [
        {
          "data": {
            "text/plain": [
              "129012"
            ]
          },
          "execution_count": 24,
          "metadata": {},
          "output_type": "execute_result"
        }
      ],
      "source": [
        "len(smiles_data)"
      ]
    },
    {
      "cell_type": "code",
      "execution_count": 17,
      "metadata": {},
      "outputs": [
        {
          "name": "stdout",
          "output_type": "stream",
          "text": [
            "Number of unique tokens: 38\n",
            "Unique tokens:\n",
            "{'[CH-]', '/', '[N+]', 'c', '[C@]', '2', '(', 'O', '[cH+]', ')', '[C@@H]', '[NH2+]', '5', '#', 'o', '3', '[N@H+]', '[H]', '[C@H]', '1', '[nH]', 'C', '[N@@H+]', '=', '[NH-]', '4', '[cH-]', '[NH+]', 'n', '[C@@]', '[nH+]', 'F', '[CH+]', '[NH3+]', '[O-]', '\\\\', 'N', '[n+]'}\n"
          ]
        }
      ],
      "source": [
        "import re\n",
        "\n",
        "def get_unique_tokens(smiles_list):\n",
        "    \"\"\"\n",
        "    Given a list of SMILES strings, tokenizes each string using the provided regex pattern\n",
        "    and returns the set of unique tokens found across the entire list.\n",
        "    \"\"\"\n",
        "    # Regex pattern for SMILES tokenization\n",
        "    pattern = re.compile(\n",
        "        r\"(\\%\\d\\d|Cl|Br|\\[.*?\\]|\"    # two-digit ring closures, halogens, bracketed atoms\n",
        "        r\"@@?|\"                       # '@' or '@@' (chirality)\n",
        "        r\"[A-Za-z]|\\d|=|#|\\/|\\\\|\\(|\\)|\\.|:)\"\n",
        "    )\n",
        "    \n",
        "    all_tokens = []\n",
        "    for smi in smiles_list:\n",
        "        tokens = pattern.findall(smi)\n",
        "        all_tokens.extend(tokens)\n",
        "        \n",
        "    unique_tokens = set(all_tokens)\n",
        "    return unique_tokens\n",
        "\n",
        "# Example usage:\n",
        "# Replace this example list with your own data\n",
        "smiles_list = [\n",
        "    \"CC(=O)O[NH4+]\",\n",
        "    \"ClCCl\",\n",
        "    \"C1=CC=CC=C1\",\n",
        "    \"[Fe+2]CCO\",\n",
        "    \"C[C@H](N)C(=O)O\"\n",
        "]\n",
        "\n",
        "unique_tokens = get_unique_tokens(smiles_data)\n",
        "print(f\"Number of unique tokens: {len(unique_tokens)}\")\n",
        "print(\"Unique tokens:\")\n",
        "print(unique_tokens)\n"
      ]
    },
    {
      "cell_type": "code",
      "execution_count": 30,
      "metadata": {},
      "outputs": [],
      "source": [
        "# So there seem to be a lot of tokens, or molecules which exist to be missing. Let's check if this is really the case.\n",
        "\n",
        "for i in range(len(smiles_data)):\n",
        "    mol = smiles_data[i]\n",
        "    if \"P\" in mol or \"p\" in mol:\n",
        "        print(f\"Found P in {mol} at index {i}\")\n",
        "    if \"Br\" in mol or \"B\" in mol:\n",
        "        print(f\"Found Br or B in {mol} at index {i}\")"
      ]
    },
    {
      "cell_type": "code",
      "execution_count": 31,
      "metadata": {},
      "outputs": [
        {
          "name": "stdout",
          "output_type": "stream",
          "text": [
            "Unique contents: {'n+', 'C@H', 'nH+', 'N@H+', 'C@@H', 'C@@', 'N@@H+', 'NH-', 'CH-', 'cH+', 'nH', 'NH+', 'NH3+', 'N+', 'C@', 'CH+', 'NH2+', 'H', 'cH-', 'O-'}\n",
            "Number of unique contents: 20\n"
          ]
        }
      ],
      "source": [
        "# RESEARCH CELL: checking how many unique contents are in the square brackets --> used to reason that it is a good idea to use the square brackets as tokens\n",
        "# and not to tokenize the characters inside the brackets. --> Reasons for this should also be in the papers from chatgpt chat.\n",
        "\n",
        "pattern = re.compile(r'\\[([^\\]]+)\\]')\n",
        "\n",
        "all_contents = []\n",
        "for s in smiles_data:\n",
        "    # .findall() returns a list of the inner group (i.e. without the brackets)\n",
        "    all_contents.extend(pattern.findall(s))\n",
        "\n",
        "unique_contents = set(all_contents)\n",
        "\n",
        "# print(\"All bracket‐contents:\", all_contents)\n",
        "print(\"Unique contents:\", unique_contents)\n",
        "print(\"Number of unique contents:\", len(unique_contents))"
      ]
    },
    {
      "cell_type": "markdown",
      "metadata": {},
      "source": [
        "## Tokenization and encoding - SMILES"
      ]
    },
    {
      "cell_type": "code",
      "execution_count": 44,
      "metadata": {},
      "outputs": [
        {
          "data": {
            "text/plain": [
              "tensor([[[0, 0, 0,  ..., 0, 0, 0],\n",
              "         [1, 0, 0,  ..., 0, 0, 0],\n",
              "         [1, 0, 0,  ..., 0, 0, 0],\n",
              "         ...,\n",
              "         [1, 0, 0,  ..., 0, 0, 0],\n",
              "         [1, 0, 0,  ..., 0, 0, 0],\n",
              "         [1, 0, 0,  ..., 0, 0, 0]],\n",
              "\n",
              "        [[0, 0, 0,  ..., 0, 0, 0],\n",
              "         [1, 0, 0,  ..., 0, 0, 0],\n",
              "         [1, 0, 0,  ..., 0, 0, 0],\n",
              "         ...,\n",
              "         [1, 0, 0,  ..., 0, 0, 0],\n",
              "         [1, 0, 0,  ..., 0, 0, 0],\n",
              "         [1, 0, 0,  ..., 0, 0, 0]],\n",
              "\n",
              "        [[0, 0, 0,  ..., 0, 0, 0],\n",
              "         [1, 0, 0,  ..., 0, 0, 0],\n",
              "         [1, 0, 0,  ..., 0, 0, 0],\n",
              "         ...,\n",
              "         [1, 0, 0,  ..., 0, 0, 0],\n",
              "         [1, 0, 0,  ..., 0, 0, 0],\n",
              "         [1, 0, 0,  ..., 0, 0, 0]],\n",
              "\n",
              "        ...,\n",
              "\n",
              "        [[0, 0, 0,  ..., 0, 0, 0],\n",
              "         [0, 0, 0,  ..., 0, 0, 0],\n",
              "         [0, 0, 0,  ..., 0, 0, 0],\n",
              "         ...,\n",
              "         [1, 0, 0,  ..., 0, 0, 0],\n",
              "         [1, 0, 0,  ..., 0, 0, 0],\n",
              "         [1, 0, 0,  ..., 0, 0, 0]],\n",
              "\n",
              "        [[0, 0, 0,  ..., 0, 0, 0],\n",
              "         [0, 0, 0,  ..., 0, 0, 0],\n",
              "         [0, 0, 0,  ..., 0, 0, 0],\n",
              "         ...,\n",
              "         [1, 0, 0,  ..., 0, 0, 0],\n",
              "         [1, 0, 0,  ..., 0, 0, 0],\n",
              "         [1, 0, 0,  ..., 0, 0, 0]],\n",
              "\n",
              "        [[0, 0, 0,  ..., 0, 0, 0],\n",
              "         [0, 0, 0,  ..., 0, 0, 0],\n",
              "         [0, 0, 0,  ..., 0, 0, 0],\n",
              "         ...,\n",
              "         [1, 0, 0,  ..., 0, 0, 0],\n",
              "         [1, 0, 0,  ..., 0, 0, 0],\n",
              "         [1, 0, 0,  ..., 0, 0, 0]]])"
            ]
          },
          "execution_count": 44,
          "metadata": {},
          "output_type": "execute_result"
        }
      ],
      "source": [
        "import re\n",
        "import torch\n",
        "import torch.nn.functional as F\n",
        "from torch.nn.utils.rnn import pad_sequence\n",
        "from torch import nn\n",
        "\n",
        "\n",
        "# A very common regex pattern for SMILES‐tokenization\n",
        "pattern = (\n",
        "    r\"(\\%\\d\\d|Cl|Br|\\[.*?\\]|\"         # two‐digit ring closures, halogens, bracketed atoms\n",
        "    r\"@@?|\"                           # '@' or '@@' (chirality)\n",
        "    r\"[A-Za-z]|\\d|=|#|\\/|\\\\|\\(|\\)|\\.|:)\"\n",
        ")\n",
        "\n",
        "\n",
        "def tokenize_smiles(smi):\n",
        "    \"\"\"Tokenize single SMILES string into tokens.\"\"\"\n",
        "    tokens = re.findall(pattern, smi)\n",
        "    return tokens\n",
        "\n",
        "\n",
        "def tokenize_data(smiles_data):\n",
        "    \"\"\"Tokenize the dataset of SMILES strings.\"\"\"\n",
        "    tokenized_data = []\n",
        "    for smi in smiles_data:\n",
        "        tokens = tokenize_smiles(smi)\n",
        "        tokenized_data.append(tokens)\n",
        "    return tokenized_data\n",
        "\n",
        "\n",
        "tokenized_smiles_data = tokenize_data(smiles_data)\n",
        "\n",
        "\n",
        "# Create vocabulary from the tokenized data\n",
        "\n",
        "vocab = sorted({tok for seq in tokenized_smiles_data for tok in seq})\n",
        "token2idx = {tok: idx + 1 for idx, tok in enumerate(vocab)}  # the +1 is to reserve index 0 for padding\n",
        "idx2token = {idx: tok for tok, idx in token2idx.items()}\n",
        "vocab_size = len(vocab) + 1  # +1 because token index 0 is reserved for padding\n",
        "\n",
        "\n",
        "# Integer encoding of tokenized data\n",
        "def encode_tokens(tokenized_data, token2idx, vocab_size, one_hot_encoding=False, encoding_padding=True):\n",
        "    \"\"\"Convert tokenized data into integer indices.\"\"\"\n",
        "    assert not (one_hot_encoding and not encoding_padding), \"one_hot_encoding=True requires do_padding=True.\"\n",
        "    encoded_data = []\n",
        "\n",
        "    for tokens in tokenized_data:\n",
        "        encoded_seq = [token2idx.get(tok, 0) for tok in tokens]  # 0 is the index for padding\n",
        "        encoded_data.append(torch.tensor(encoded_seq, dtype=torch.long))  # long tensor because we work with integers now\n",
        "    \n",
        "    if encoding_padding:  # Pad sequences to the same length\n",
        "        encoded_data = pad_sequence(encoded_data, batch_first=True, padding_value=0)\n",
        "\n",
        "    if one_hot_encoding:  # Convert to one-hot encoding\n",
        "        encoded_data = F.one_hot(encoded_data, num_classes=vocab_size)\n",
        "    \n",
        "    # NOTE: It might be valuable to add an embedding layer to the RNN  --> this is just a single layer, no need to actually do token embedding ourselves\n",
        "    # NOTE: Long tensor itself should not be thrown into the RNN, but rather the embeddings converts it to embedding normal tensor.\n",
        "\n",
        "    return encoded_data\n",
        "\n",
        "\n",
        "# https://chatgpt.com/share/683ed631-19b8-8013-a84e-2d30b4dcca35 --> at the end some papers are cited for this approach, but still need to check\n",
        "# whether this is actually correct.\n",
        "\n",
        "# Reason for using the things between [] as tokens is that they follow specific charge rules. \n",
        "# Altough the RNN can learn the common charged atom combinations which occur in the dataset, \n",
        "# it will likely not be able to generalize and create new valid charged atoms. Therefore, better\n",
        "# to use the ones we have seen as tokens. This makes the RNN more robust to create valid molecules given existing elements.\n",
        "# Also in slides: special atoms (“[…]”) --> so can be seen as a single token. \n",
        "\n",
        "\n",
        "encode_tokens(tokenized_smiles_data, token2idx, vocab_size, one_hot_encoding=True, encoding_padding=True)"
      ]
    },
    {
      "cell_type": "markdown",
      "metadata": {
        "id": "76MeHNQ_Gd9t"
      },
      "source": [
        "## Task 1"
      ]
    },
    {
      "cell_type": "code",
      "execution_count": null,
      "metadata": {},
      "outputs": [],
      "source": []
    },
    {
      "cell_type": "markdown",
      "metadata": {
        "id": "n0zvKnpLGf9v"
      },
      "source": [
        "## Task 2"
      ]
    },
    {
      "cell_type": "code",
      "execution_count": null,
      "metadata": {
        "id": "AC1KICrZGgkY"
      },
      "outputs": [],
      "source": []
    },
    {
      "cell_type": "markdown",
      "metadata": {
        "id": "5mIuOY4BGxqU"
      },
      "source": [
        "## Task 3"
      ]
    },
    {
      "cell_type": "code",
      "execution_count": null,
      "metadata": {
        "id": "z_NgxsO3GxEE"
      },
      "outputs": [],
      "source": [
        "def is_valid_smiles(smiles):\n",
        "    if smiles is None:\n",
        "        return False\n",
        "    try:\n",
        "        mol = Chem.MolFromSmiles(smiles)\n",
        "        return mol is not None\n",
        "    except:\n",
        "        return False\n",
        "\n",
        "def canonicalize(smiles):\n",
        "    try:\n",
        "        mol = Chem.MolFromSmiles(smiles)\n",
        "        if mol:\n",
        "            return Chem.MolToSmiles(mol, canonical=True)\n",
        "        return 'None'\n",
        "    except:\n",
        "        return 'None'"
      ]
    },
    {
      "cell_type": "code",
      "execution_count": null,
      "metadata": {
        "id": "SN_jGgOwG4kK"
      },
      "outputs": [],
      "source": [
        "canonicalize(\"COO\"), canonicalize(\"O(C)O\")"
      ]
    },
    {
      "cell_type": "code",
      "execution_count": null,
      "metadata": {
        "id": "-bhjYhYrHCuQ"
      },
      "outputs": [],
      "source": [
        "is_valid_smiles(\"COO\"), is_valid_smiles(\"O(C)O\"), is_valid_smiles(\"C##\")"
      ]
    },
    {
      "cell_type": "code",
      "execution_count": null,
      "metadata": {
        "id": "0_YgzDpMH-Vl"
      },
      "outputs": [],
      "source": []
    }
  ],
  "metadata": {
    "colab": {
      "provenance": []
    },
    "kernelspec": {
      "display_name": "env_dl",
      "language": "python",
      "name": "python3"
    },
    "language_info": {
      "codemirror_mode": {
        "name": "ipython",
        "version": 3
      },
      "file_extension": ".py",
      "mimetype": "text/x-python",
      "name": "python",
      "nbconvert_exporter": "python",
      "pygments_lexer": "ipython3",
      "version": "3.11.6"
    }
  },
  "nbformat": 4,
  "nbformat_minor": 0
}
